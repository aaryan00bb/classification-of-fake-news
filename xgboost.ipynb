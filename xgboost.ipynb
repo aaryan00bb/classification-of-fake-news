from sklearn.model_selection import train_test_split
from sklearn.preprocessing import MinMaxScaler
from sklearn.metrics import confusion_matrix, accuracy_score
from xgboost import XGBClassifier

import matplotlib.pyplot as plt
import seaborn as sns
import pandas as pd
df = pd.read_csv('parkinsons.data')
df.isna().sum()
corr_map=df.corr()
sns.set_style('darkgrid') 
# sns.set_style help to set color of the axes, whether a grid is enabled by default, and other aesthetic elements.
plt.figure(figsize=(15,15))
sns.heatmap(data=corr_map, annot=True)
correlation_values=df.corr()['status']
correlation_values.abs().sort_values(ascending=False)
features=df.loc[:,df.columns!='status']
labels=df.loc[:,'status']
print("Examples with label '0': {}\n Examples with label '1': {}".format(labels[labels==0].shape, labels[labels==1].s
mm_scaler = MinMaxScaler(feature_range=(-1,1))
X = mm_scaler.fit_transform(features.drop('name', axis=1)) 
y = labels.values
X_train, X_test, y_train, y_test = train_test_split(X, y, test_size=0.3, random_state=10)
xbg_model = XGBClassifier()
xbg_model.fit(X_train, y_train)
y_pred = xbg_model.predict(X_test)
print(confusion_matrix(y_test, y_pred))
print(accuracy_score(y_test, y_pred))
                                                                         
